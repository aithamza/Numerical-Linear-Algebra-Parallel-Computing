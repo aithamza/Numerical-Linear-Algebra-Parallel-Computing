{
 "cells": [
  {
   "cell_type": "markdown",
   "id": "e6c97b7b",
   "metadata": {},
   "source": [
    "# MPI Assignments\n",
    "\n",
    "### Exercise 1: Hello World\n",
    "1. Write an MPI program which prints the message \"Hello World\"\n",
    "2. Modify your program so that each process prints out both its rank and the total number of processes P that the code is running on, i.e. the size of `MPI_COMM_WORLD`.\n",
    "3. Modify your program so that only a single controller process (e.g. rank 0) prints out a message (very useful when you run with hundreds of processes).\n",
    "4. What happens if you omit the final MPI procedure call in your program?\n"
   ]
  },
  {
   "cell_type": "markdown",
   "id": "58f4f604",
   "metadata": {},
   "source": [
    "\n",
    "### Exercise 2: Sharing Data\n",
    "Create a program that obtains an integer input from the terminal and distributes it to all the MPI processes.\n",
    "Each process must display its rank and the received value. \n",
    "Keep reading values until a negative integer is entered.\n",
    "**Output Example**\n",
    "```shell\n",
    "10\n",
    "Process 0 got 10\n",
    "Process 1 got 10\n",
    "```\n"
   ]
  },
  {
   "cell_type": "markdown",
   "id": "f6ed71a9",
   "metadata": {},
   "source": [
    "\n",
    "### Exercise 3 Sending in a ring (broadcast by ring)\n",
    "\n",
    "Write a program that takes data from process zero and sends it to all of the other processes by sending it in a ring. That is, process i should receive the data add the rank of the process to it then send it to process i+1, until the last process is reached.\n",
    "Assume that the data consists of a single integer. Process zero reads the data from the user.\n",
    "print the process rank and the value received.\n",
    "\n",
    "\n",
    "![ring](../data/ring.gif)\n",
    "\n",
    "You may want to use these MPI routines in your solution:\n",
    "`Send` `Recv` \n"
   ]
  },
  {
   "cell_type": "markdown",
   "id": "f38b3f9f",
   "metadata": {},
   "source": [
    "\n",
    "### Exercise 4: Scattering Matrix\n",
    "1. Create an n by m matrix A on processor 0.\n",
    "2. Use MPI_Scatterv to send parts of the matrix to the other processors.\n",
    "3. Processor 1 receives A(i,j) for i=0 to (n/2)-1 and j=m/2 to m-1.\n",
    "4. Processor 2 receives A(i,j) for i=n/2 to n-1 and j=0 to (m/2)-1.\n",
    "5. Processor 3 receives A(i,j) for i=n/2 to n-1 and j=m/2 to m-1.\n",
    "**Example:** using n=m=8 for simplicity.\n",
    "\n",
    "\n",
    "![N2utM.png](attachment:N2utM.png)\n",
    "\n",
    "\n",
    "### Exercise 5 Matrix vector product\n",
    "\n",
    "1. Use the `MatrixVectorMult.py` file to implement the MPI version of matrix vector multiplication.\n",
    "2. Process 0 compares the result with the `dot` product.\n",
    "3. Plot the scalability of your implementation. \n",
    "\n",
    "**Output Example**\n",
    "```shell\n",
    "CPU time of parallel multiplication using 2 processes is  174.923446\n",
    "The error comparing to the dot product is : 1.4210854715202004e-14\n",
    "```\n",
    "\n"
   ]
  },
  {
   "cell_type": "markdown",
   "id": "32561454",
   "metadata": {},
   "source": [
    "\n",
    "### Exercise 6: Pi calculation\n",
    "An approximation to the value π can be obtained from the following expression\n",
    "\n",
    "![Pi expression](../data/pi.PNG)\n",
    "\n",
    "where the answer becomes more accurate with increasing N. Iterations over i are independent so the\n",
    "calculation can be parallelized.\n",
    "\n",
    "For the following exercises you should set N = 840. This number is divisible by 2, 3, 4, 5, 6, 7 and 8\n",
    "which is convenient when you parallelize the calculation!\n",
    "\n",
    "1. Create a program where each process independently computes the value of `π` and prints it to the screen. Check that the values are correct (each process should print the same value)\n",
    "2. Now arrange for different processes to do the computation for different ranges of i. For example, on two processes: rank 0 would do i = 0, 1, 2, . . . , N/2 - 1; rank 1 would do i = N/2, N/2 + 1, . . . , N-1.\n",
    "Print the partial sums to the screen and check the values are correct by adding them up by hand.\n",
    "3. Now we want to accumulate these partial sums by sending them to the controller (e.g. rank 0) to add up:\n",
    "- all processes (except the controller) send their partial sum to the controller\n",
    "- the controller receives the values from all the other processes, adding them to its own partial sum\n",
<<<<<<< HEAD
    "*N.B You should use the `MPI` routines `MPI_Ssend` and `MPI_Recv`.*\n",
    "4. Use the function `MPI_Wtime` (see below) to record the time it takes to perform the calculation. For a given value of N, does the time decrease as you increase the number of processes? Note that to ensure that the calculation takes a sensible amount of time (e.g. more than a second) you will probably have to perform the calculation of `π` several thousands of times.\n",
    "5. Ensure your program works correctly if N is not an exact multiple of the number of processes P\n"
   ]
  },
  {
   "cell_type": "markdown",
   "id": "3ac659e0",
   "metadata": {},
   "source": [
    "\n",
    "### Exercise 4: Scattering Matrix\n",
    "1. Create an n by m matrix A on processor 0.\n",
    "2. Use MPI_Scatterv to send parts of the matrix to the other processors.\n",
    "3. Processor 1 receives A(i,j) for i=0 to (n/2)-1 and j=m/2 to m-1.\n",
    "4. Processor 2 receives A(i,j) for i=n/2 to n-1 and j=0 to (m/2)-1.\n",
    "5. Processor 3 receives A(i,j) for i=n/2 to n-1 and j=m/2 to m-1.\n",
    "**Example:** using n=m=8 for simplicity.\n",
    "\n",
    "\n",
    "![N2utM.png](attachment:N2utM.png)\n",
=======
    "1. Use the function `MPI_Wtime` (see below) to record the time it takes to perform the calculation. For a given value of N, does the time decrease as you increase the number of processes? Note that to ensure that the calculation takes a sensible amount of time (e.g. more than a second) you will probably have to perform the calculation of `π` several thousands of times.\n",
    "2. Ensure your program works correctly if N is not an exact multiple of the number of processes P\n",
    "\n",
    "\n",
>>>>>>> 798e50620622e41a68b7e64435b8545a25b2602d
    "\n"
   ]
  },
  {
   "cell_type": "code",
   "execution_count": null,
   "id": "6eafdf34",
   "metadata": {},
   "outputs": [],
   "source": []
  }
 ],
 "metadata": {
  "kernelspec": {
   "display_name": "Python 3 (ipykernel)",
   "language": "python",
   "name": "python3"
  },
  "language_info": {
   "codemirror_mode": {
    "name": "ipython",
    "version": 3
   },
   "file_extension": ".py",
   "mimetype": "text/x-python",
   "name": "python",
   "nbconvert_exporter": "python",
   "pygments_lexer": "ipython3",
   "version": "3.9.13"
  }
 },
 "nbformat": 4,
 "nbformat_minor": 5
}
