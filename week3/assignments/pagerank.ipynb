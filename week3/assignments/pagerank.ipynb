{
 "cells": [
  {
   "cell_type": "markdown",
   "id": "87d64ccf",
   "metadata": {},
   "source": [
    "Use this cell for all your imports"
   ]
  },
  {
   "cell_type": "code",
   "execution_count": 2,
   "id": "40623a0d",
   "metadata": {},
   "outputs": [],
   "source": [
    "import pandas as pd \n",
    "from sklearn.preprocessing import MinMaxScaler\n",
    "import numpy as np\n",
    "import numpy as np\n",
    "import scipy.sparse as sp\n",
    "from scipy.sparse.linalg import eigs\n",
    "import networkx as nx\n",
    "\n"
   ]
  },
  {
   "cell_type": "code",
   "execution_count": 29,
   "id": "e5fb97ea",
   "metadata": {},
   "outputs": [
    {
     "data": {
      "text/html": [
       "<div>\n",
       "<style scoped>\n",
       "    .dataframe tbody tr th:only-of-type {\n",
       "        vertical-align: middle;\n",
       "    }\n",
       "\n",
       "    .dataframe tbody tr th {\n",
       "        vertical-align: top;\n",
       "    }\n",
       "\n",
       "    .dataframe thead th {\n",
       "        text-align: right;\n",
       "    }\n",
       "</style>\n",
       "<table border=\"1\" class=\"dataframe\">\n",
       "  <thead>\n",
       "    <tr style=\"text-align: right;\">\n",
       "      <th></th>\n",
       "      <th># Directed graph (each unordered pair of nodes is saved once): Cit-HepTh.txt</th>\n",
       "    </tr>\n",
       "  </thead>\n",
       "  <tbody>\n",
       "    <tr>\n",
       "      <th>0</th>\n",
       "      <td># Paper citation network of Arxiv High Energy ...</td>\n",
       "    </tr>\n",
       "    <tr>\n",
       "      <th>1</th>\n",
       "      <td># Nodes: 27770 Edges: 352807</td>\n",
       "    </tr>\n",
       "    <tr>\n",
       "      <th>2</th>\n",
       "      <td># FromNodeId\\tToNodeId</td>\n",
       "    </tr>\n",
       "    <tr>\n",
       "      <th>3</th>\n",
       "      <td>1001\\t9304045</td>\n",
       "    </tr>\n",
       "    <tr>\n",
       "      <th>4</th>\n",
       "      <td>1001\\t9308122</td>\n",
       "    </tr>\n",
       "    <tr>\n",
       "      <th>...</th>\n",
       "      <td>...</td>\n",
       "    </tr>\n",
       "    <tr>\n",
       "      <th>352805</th>\n",
       "      <td>9912286\\t9805150</td>\n",
       "    </tr>\n",
       "    <tr>\n",
       "      <th>352806</th>\n",
       "      <td>9912286\\t9806074</td>\n",
       "    </tr>\n",
       "    <tr>\n",
       "      <th>352807</th>\n",
       "      <td>9912286\\t9808140</td>\n",
       "    </tr>\n",
       "    <tr>\n",
       "      <th>352808</th>\n",
       "      <td>9912286\\t9810068</td>\n",
       "    </tr>\n",
       "    <tr>\n",
       "      <th>352809</th>\n",
       "      <td>9912286\\t9901023</td>\n",
       "    </tr>\n",
       "  </tbody>\n",
       "</table>\n",
       "<p>352810 rows × 1 columns</p>\n",
       "</div>"
      ],
      "text/plain": [
       "       # Directed graph (each unordered pair of nodes is saved once): Cit-HepTh.txt \n",
       "0       # Paper citation network of Arxiv High Energy ...                           \n",
       "1                            # Nodes: 27770 Edges: 352807                           \n",
       "2                                  # FromNodeId\\tToNodeId                           \n",
       "3                                           1001\\t9304045                           \n",
       "4                                           1001\\t9308122                           \n",
       "...                                                   ...                           \n",
       "352805                                   9912286\\t9805150                           \n",
       "352806                                   9912286\\t9806074                           \n",
       "352807                                   9912286\\t9808140                           \n",
       "352808                                   9912286\\t9810068                           \n",
       "352809                                   9912286\\t9901023                           \n",
       "\n",
       "[352810 rows x 1 columns]"
      ]
     },
     "execution_count": 29,
     "metadata": {},
     "output_type": "execute_result"
    }
   ],
   "source": [
    "pd.read_csv('data.txt')"
   ]
  },
  {
   "cell_type": "markdown",
   "id": "164f305b",
   "metadata": {},
   "source": [
    "You will be working with the file data.txt. Use this cell to load its content into the appropriate data structure."
   ]
  },
  {
   "cell_type": "code",
   "execution_count": 13,
   "id": "be42fee4",
   "metadata": {},
   "outputs": [
    {
     "name": "stderr",
     "output_type": "stream",
     "text": [
      "C:\\Users\\ASUS ZENBOOK\\AppData\\Local\\Temp\\ipykernel_11132\\386256547.py:5: DtypeWarning: Columns (0,1) have mixed types. Specify dtype option on import or set low_memory=False.\n",
      "  data_df = pd.read_csv(\"data.txt\", sep=\"\\t\", skiprows=2, header=None, names=[\"from_node\", \"to_node\"])\n"
     ]
    }
   ],
   "source": [
    "import pandas as pd\n",
    "import networkx as nx\n",
    "\n",
    "# Load data as a pandas DataFrame\n",
    "data_df = pd.read_csv(\"data.txt\", sep=\"\\t\", skiprows=2, header=None, names=[\"from_node\", \"to_node\"])\n",
    "\n",
    "# Convert DataFrame to networkx graph\n",
    "G = nx.from_pandas_edgelist(data_df, \"from_node\", \"to_node\")\n"
   ]
  },
  {
   "cell_type": "code",
   "execution_count": null,
   "id": "0ef62a97",
   "metadata": {},
   "outputs": [],
   "source": []
  },
  {
   "cell_type": "code",
   "execution_count": null,
   "id": "dd7041f8",
   "metadata": {},
   "outputs": [],
   "source": []
  },
  {
   "cell_type": "markdown",
   "id": "4c7a8af4",
   "metadata": {},
   "source": [
    "Use this cell to normalize the matrix as you see fit."
   ]
  },
  {
   "cell_type": "code",
   "execution_count": 16,
   "id": "2e612783",
   "metadata": {},
   "outputs": [
    {
     "ename": "ValueError",
     "evalue": "row index exceeds matrix dimensions",
     "output_type": "error",
     "traceback": [
      "\u001b[1;31m---------------------------------------------------------------------------\u001b[0m",
      "\u001b[1;31mValueError\u001b[0m                                Traceback (most recent call last)",
      "Input \u001b[1;32mIn [16]\u001b[0m, in \u001b[0;36m<cell line: 36>\u001b[1;34m()\u001b[0m\n\u001b[0;32m     33\u001b[0m     num_nodes \u001b[38;5;241m+\u001b[39m\u001b[38;5;241m=\u001b[39m \u001b[38;5;241m1\u001b[39m\n\u001b[0;32m     35\u001b[0m \u001b[38;5;66;03m# Construct COO matrix\u001b[39;00m\n\u001b[1;32m---> 36\u001b[0m matrix \u001b[38;5;241m=\u001b[39m \u001b[43mcoo_matrix\u001b[49m\u001b[43m(\u001b[49m\u001b[43m(\u001b[49m\u001b[43mdata\u001b[49m\u001b[43m,\u001b[49m\u001b[43m \u001b[49m\u001b[43m(\u001b[49m\u001b[43mrows\u001b[49m\u001b[43m,\u001b[49m\u001b[43m \u001b[49m\u001b[43mcols\u001b[49m\u001b[43m)\u001b[49m\u001b[43m)\u001b[49m\u001b[43m,\u001b[49m\u001b[43m \u001b[49m\u001b[43mshape\u001b[49m\u001b[38;5;241;43m=\u001b[39;49m\u001b[43m(\u001b[49m\u001b[43mnum_nodes\u001b[49m\u001b[43m,\u001b[49m\u001b[43m \u001b[49m\u001b[43mnum_nodes\u001b[49m\u001b[43m)\u001b[49m\u001b[43m)\u001b[49m\n\u001b[0;32m     38\u001b[0m \u001b[38;5;66;03m# Normalize the matrix using L1 normalization\u001b[39;00m\n\u001b[0;32m     39\u001b[0m row_sums \u001b[38;5;241m=\u001b[39m matrix\u001b[38;5;241m.\u001b[39msum(axis\u001b[38;5;241m=\u001b[39m\u001b[38;5;241m1\u001b[39m)\n",
      "File \u001b[1;32m~\\anaconda3\\lib\\site-packages\\scipy\\sparse\\coo.py:196\u001b[0m, in \u001b[0;36mcoo_matrix.__init__\u001b[1;34m(self, arg1, shape, dtype, copy)\u001b[0m\n\u001b[0;32m    193\u001b[0m \u001b[38;5;28;01mif\u001b[39;00m dtype \u001b[38;5;129;01mis\u001b[39;00m \u001b[38;5;129;01mnot\u001b[39;00m \u001b[38;5;28;01mNone\u001b[39;00m:\n\u001b[0;32m    194\u001b[0m     \u001b[38;5;28mself\u001b[39m\u001b[38;5;241m.\u001b[39mdata \u001b[38;5;241m=\u001b[39m \u001b[38;5;28mself\u001b[39m\u001b[38;5;241m.\u001b[39mdata\u001b[38;5;241m.\u001b[39mastype(dtype, copy\u001b[38;5;241m=\u001b[39m\u001b[38;5;28;01mFalse\u001b[39;00m)\n\u001b[1;32m--> 196\u001b[0m \u001b[38;5;28;43mself\u001b[39;49m\u001b[38;5;241;43m.\u001b[39;49m\u001b[43m_check\u001b[49m\u001b[43m(\u001b[49m\u001b[43m)\u001b[49m\n",
      "File \u001b[1;32m~\\anaconda3\\lib\\site-packages\\scipy\\sparse\\coo.py:283\u001b[0m, in \u001b[0;36mcoo_matrix._check\u001b[1;34m(self)\u001b[0m\n\u001b[0;32m    281\u001b[0m \u001b[38;5;28;01mif\u001b[39;00m \u001b[38;5;28mself\u001b[39m\u001b[38;5;241m.\u001b[39mnnz \u001b[38;5;241m>\u001b[39m \u001b[38;5;241m0\u001b[39m:\n\u001b[0;32m    282\u001b[0m     \u001b[38;5;28;01mif\u001b[39;00m \u001b[38;5;28mself\u001b[39m\u001b[38;5;241m.\u001b[39mrow\u001b[38;5;241m.\u001b[39mmax() \u001b[38;5;241m>\u001b[39m\u001b[38;5;241m=\u001b[39m \u001b[38;5;28mself\u001b[39m\u001b[38;5;241m.\u001b[39mshape[\u001b[38;5;241m0\u001b[39m]:\n\u001b[1;32m--> 283\u001b[0m         \u001b[38;5;28;01mraise\u001b[39;00m \u001b[38;5;167;01mValueError\u001b[39;00m(\u001b[38;5;124m'\u001b[39m\u001b[38;5;124mrow index exceeds matrix dimensions\u001b[39m\u001b[38;5;124m'\u001b[39m)\n\u001b[0;32m    284\u001b[0m     \u001b[38;5;28;01mif\u001b[39;00m \u001b[38;5;28mself\u001b[39m\u001b[38;5;241m.\u001b[39mcol\u001b[38;5;241m.\u001b[39mmax() \u001b[38;5;241m>\u001b[39m\u001b[38;5;241m=\u001b[39m \u001b[38;5;28mself\u001b[39m\u001b[38;5;241m.\u001b[39mshape[\u001b[38;5;241m1\u001b[39m]:\n\u001b[0;32m    285\u001b[0m         \u001b[38;5;28;01mraise\u001b[39;00m \u001b[38;5;167;01mValueError\u001b[39;00m(\u001b[38;5;124m'\u001b[39m\u001b[38;5;124mcolumn index exceeds matrix dimensions\u001b[39m\u001b[38;5;124m'\u001b[39m)\n",
      "\u001b[1;31mValueError\u001b[0m: row index exceeds matrix dimensions"
     ]
    }
   ],
   "source": [
    "import pandas as pd\n",
    "from scipy.sparse import coo_matrix\n",
    "\n",
    "filename = 'data.txt'\n",
    "\n",
    "# Load data from file\n",
    "with open(filename, 'r') as f:\n",
    "    # Skip comment lines\n",
    "    while True:\n",
    "        line = f.readline()\n",
    "        if not line.startswith('#'):\n",
    "            break\n",
    "\n",
    "    # Read number of nodes and edges\n",
    "    num_nodes, num_edges = map(int, line.split())\n",
    "\n",
    "    # Create empty arrays to store data for COO matrix\n",
    "    rows = []\n",
    "    cols = []\n",
    "    data = []\n",
    "\n",
    "    # Read edge data into arrays\n",
    "    for i in range(num_edges):\n",
    "        line = f.readline().strip()\n",
    "        if not line:\n",
    "            continue\n",
    "        row, col = map(int, line.split())\n",
    "        rows.append(row)\n",
    "        cols.append(col)\n",
    "        data.append(1)\n",
    "\n",
    "    # Increase num_nodes by 1 to account for nodes with no edges\n",
    "    num_nodes += 1\n",
    "\n",
    "# Construct COO matrix\n",
    "matrix = coo_matrix((data, (rows, cols)), shape=(num_nodes, num_nodes))\n",
    "\n",
    "# Normalize the matrix using L1 normalization\n",
    "row_sums = matrix.sum(axis=1)\n",
    "normalized_matrix = coo_matrix(matrix / row_sums)\n",
    "\n",
    "# Convert matrix to DataFrame\n",
    "df = pd.DataFrame({'row': matrix.row, 'col': matrix.col, 'value': matrix.data})\n",
    "\n",
    "print(\"Original matrix:\\n\", matrix.toarray())\n",
    "print(\"Normalized matrix:\\n\", normalized_matrix.toarray())\n",
    "print(\"DataFrame:\\n\", df.head())\n"
   ]
  },
  {
   "cell_type": "markdown",
   "id": "5a4ee89a",
   "metadata": {},
   "source": [
    "Apply the PageRank algorithm to the matrix you created."
   ]
  },
  {
   "cell_type": "code",
   "execution_count": 3,
   "id": "ae9319ef",
   "metadata": {},
   "outputs": [
    {
     "name": "stdout",
     "output_type": "stream",
     "text": [
      "Converged after 19 iterations\n",
      "Top 10 nodes by PageRank score:\n",
      "Node 9905111: 0.00001\n",
      "Node 9710046: 0.00001\n",
      "Node 110055: 0.00000\n",
      "Node 210157: 0.00000\n",
      "Node 7170: 0.00000\n",
      "Node 101126: 0.00000\n",
      "Node 204089: 0.00000\n",
      "Node 9802051: 0.00000\n",
      "Node 9809039: 0.00000\n",
      "Node 9802067: 0.00000\n"
     ]
    }
   ],
   "source": [
    "import numpy as np\n",
    "import scipy.sparse as sp\n",
    "\n",
    "# Load data from file\n",
    "data = np.loadtxt(\"data.txt\", comments=\"#\", delimiter=\"\\t\", dtype=int, unpack=False, skiprows=2)\n",
    "\n",
    "# Create sparse adjacency matrix\n",
    "adj_matrix = sp.coo_matrix((np.ones(data.shape[0]), (data[:, 0], data[:, 1])))\n",
    "\n",
    "# Normalize adjacency matrix\n",
    "rowsum = np.array(adj_matrix.sum(axis=1)).flatten()\n",
    "rowsum[rowsum == 0] = 1  # avoid divide by zero\n",
    "normalized_matrix = adj_matrix.multiply(1 / rowsum).tocsr()\n",
    "\n",
    "# Set PageRank parameters\n",
    "alpha = 0.85  # damping factor\n",
    "max_iter = 100  # maximum number of iterations\n",
    "tolerance = 1e-6  # convergence tolerance\n",
    "\n",
    "# Initialize PageRank scores\n",
    "num_nodes = normalized_matrix.shape[0]\n",
    "pagerank = np.ones(num_nodes) / num_nodes\n",
    "\n",
    "# Run PageRank algorithm\n",
    "for i in range(max_iter):\n",
    "    prev_pagerank = pagerank.copy()\n",
    "    pagerank = normalized_matrix.dot(pagerank) * alpha + (1 - alpha) / num_nodes\n",
    "    delta = np.abs(pagerank - prev_pagerank).sum()\n",
    "    if delta < tolerance:\n",
    "        print(f\"Converged after {i+1} iterations\")\n",
    "        break\n",
    "\n",
    "# Sort nodes by PageRank score in descending order\n",
    "node_scores = {i: score for i, score in enumerate(pagerank)}\n",
    "sorted_scores = sorted(node_scores.items(), key=lambda x: x[1], reverse=True)\n",
    "\n",
    "# Print top 10 nodes by PageRank score\n",
    "print(\"Top 10 nodes by PageRank score:\")\n",
    "for node, score in sorted_scores[:10]:\n",
    "    print(f\"Node {node}: {score:.5f}\")\n"
   ]
  },
  {
   "cell_type": "markdown",
   "id": "005047ad",
   "metadata": {},
   "source": [
    "Output a list of the 100 most important papers along with their importance"
   ]
  },
  {
   "cell_type": "code",
   "execution_count": 21,
   "id": "46d1896d",
   "metadata": {},
   "outputs": [
    {
     "name": "stdout",
     "output_type": "stream",
     "text": [
      "Converged after 19 iterations\n",
      "Top 100 papers by PageRank score:\n",
      "Paper 9905111: 0.00001\n",
      "Paper 9710046: 0.00001\n",
      "Paper 110055: 0.00000\n",
      "Paper 210157: 0.00000\n",
      "Paper 7170: 0.00000\n",
      "Paper 101126: 0.00000\n",
      "Paper 204089: 0.00000\n",
      "Paper 9802051: 0.00000\n",
      "Paper 9809039: 0.00000\n",
      "Paper 9802067: 0.00000\n",
      "Paper 9712253: 0.00000\n",
      "Paper 201253: 0.00000\n",
      "Paper 11197: 0.00000\n",
      "Paper 209230: 0.00000\n",
      "Paper 109162: 0.00000\n",
      "Paper 204253: 0.00000\n",
      "Paper 9909061: 0.00000\n",
      "Paper 9611190: 0.00000\n",
      "Paper 207130: 0.00000\n",
      "Paper 207116: 0.00000\n",
      "Paper 111208: 0.00000\n",
      "Paper 209241: 0.00000\n",
      "Paper 9906142: 0.00000\n",
      "Paper 210292: 0.00000\n",
      "Paper 9806199: 0.00000\n",
      "Paper 9807171: 0.00000\n",
      "Paper 211245: 0.00000\n",
      "Paper 9906018: 0.00000\n",
      "Paper 9202: 0.00000\n",
      "Paper 3190: 0.00000\n",
      "Paper 7195: 0.00000\n",
      "Paper 106048: 0.00000\n",
      "Paper 210224: 0.00000\n",
      "Paper 206063: 0.00000\n",
      "Paper 9812061: 0.00000\n",
      "Paper 9908004: 0.00000\n",
      "Paper 9705131: 0.00000\n",
      "Paper 211178: 0.00000\n",
      "Paper 203048: 0.00000\n",
      "Paper 9912164: 0.00000\n",
      "Paper 303185: 0.00000\n",
      "Paper 108172: 0.00000\n",
      "Paper 9801182: 0.00000\n",
      "Paper 9803072: 0.00000\n",
      "Paper 203157: 0.00000\n",
      "Paper 110274: 0.00000\n",
      "Paper 104031: 0.00000\n",
      "Paper 303256: 0.00000\n",
      "Paper 206038: 0.00000\n",
      "Paper 9710231: 0.00000\n",
      "Paper 302125: 0.00000\n",
      "Paper 9806123: 0.00000\n",
      "Paper 109212: 0.00000\n",
      "Paper 111284: 0.00000\n",
      "Paper 303191: 0.00000\n",
      "Paper 9801132: 0.00000\n",
      "Paper 107081: 0.00000\n",
      "Paper 106201: 0.00000\n",
      "Paper 3086: 0.00000\n",
      "Paper 9611184: 0.00000\n",
      "Paper 9911022: 0.00000\n",
      "Paper 303072: 0.00000\n",
      "Paper 209169: 0.00000\n",
      "Paper 9903268: 0.00000\n",
      "Paper 208142: 0.00000\n",
      "Paper 9709172: 0.00000\n",
      "Paper 9908199: 0.00000\n",
      "Paper 203101: 0.00000\n",
      "Paper 205060: 0.00000\n",
      "Paper 9912271: 0.00000\n",
      "Paper 9505052: 0.00000\n",
      "Paper 101036: 0.00000\n",
      "Paper 8241: 0.00000\n",
      "Paper 9812072: 0.00000\n",
      "Paper 9708009: 0.00000\n",
      "Paper 9708164: 0.00000\n",
      "Paper 9811093: 0.00000\n",
      "Paper 9901050: 0.00000\n",
      "Paper 210249: 0.00000\n",
      "Paper 212253: 0.00000\n",
      "Paper 9612192: 0.00000\n",
      "Paper 9506171: 0.00000\n",
      "Paper 102085: 0.00000\n",
      "Paper 109092: 0.00000\n",
      "Paper 9910053: 0.00000\n",
      "Paper 12062: 0.00000\n",
      "Paper 2016: 0.00000\n",
      "Paper 9305040: 0.00000\n",
      "Paper 9908171: 0.00000\n",
      "Paper 9806104: 0.00000\n",
      "Paper 9811019: 0.00000\n",
      "Paper 9709062: 0.00000\n",
      "Paper 2034: 0.00000\n",
      "Paper 9801144: 0.00000\n",
      "Paper 212313: 0.00000\n",
      "Paper 302191: 0.00000\n",
      "Paper 9603074: 0.00000\n",
      "Paper 9611203: 0.00000\n",
      "Paper 207105: 0.00000\n",
      "Paper 9907123: 0.00000\n"
     ]
    }
   ],
   "source": [
    "import numpy as np\n",
    "import scipy.sparse as sp\n",
    "\n",
    "# Load data from file\n",
    "data = np.loadtxt(\"data.txt\", comments=\"#\", delimiter=\"\\t\", dtype=int, unpack=False, skiprows=2)\n",
    "\n",
    "# Create sparse adjacency matrix\n",
    "adj_matrix = sp.coo_matrix((np.ones(data.shape[0]), (data[:, 0], data[:, 1])))\n",
    "\n",
    "# Normalize adjacency matrix\n",
    "rowsum = np.array(adj_matrix.sum(axis=1)).flatten()\n",
    "rowsum[rowsum == 0] = 1  # avoid divide by zero\n",
    "normalized_matrix = adj_matrix.multiply(1 / rowsum).tocsr()\n",
    "\n",
    "# Set PageRank parameters\n",
    "alpha = 0.85  # damping factor\n",
    "max_iter = 100  # maximum number of iterations\n",
    "tolerance = 1e-6  # convergence tolerance\n",
    "\n",
    "# Initialize PageRank scores\n",
    "num_nodes = normalized_matrix.shape[0]\n",
    "pagerank = np.ones(num_nodes) / num_nodes\n",
    "\n",
    "# Run PageRank algorithm\n",
    "for i in range(max_iter):\n",
    "    prev_pagerank = pagerank.copy()\n",
    "    pagerank = normalized_matrix.dot(pagerank) * alpha + (1 - alpha) / num_nodes\n",
    "    delta = np.abs(pagerank - prev_pagerank).sum()\n",
    "    if delta < tolerance:\n",
    "        print(f\"Converged after {i+1} iterations\")\n",
    "        break\n",
    "\n",
    "# Sort nodes by PageRank score in descending order\n",
    "node_scores = {i: score for i, score in enumerate(pagerank)}\n",
    "sorted_scores = sorted(node_scores.items(), key=lambda x: x[1], reverse=True)\n",
    "\n",
    "# Print top 100 papers by PageRank score\n",
    "print(\"Top 100 papers by PageRank score:\")\n",
    "for node, score in sorted_scores[:100]:\n",
    "    print(f\"Paper {node}: {score:.5f}\")\n"
   ]
  },
  {
   "cell_type": "markdown",
   "id": "b0ba2208",
   "metadata": {},
   "source": [
    "Visualize your results"
   ]
  },
  {
   "cell_type": "code",
   "execution_count": 22,
   "id": "25affee6",
   "metadata": {},
   "outputs": [
    {
     "data": {
      "image/png": "[encoded data removed]",
      "text/plain": [
       "<Figure size 432x288 with 1 Axes>"
      ]
     },
     "metadata": {
      "needs_background": "light"
     },
     "output_type": "display_data"
    }
   ],
   "source": [
    "import matplotlib.pyplot as plt\n",
    "\n",
    "# Create a list of the top 100 paper scores\n",
    "top_scores = [score for _, score in sorted_scores[:100]]\n",
    "\n",
    "# Plot the top 100 paper scores\n",
    "plt.plot(range(1, 101), top_scores)\n",
    "plt.xlabel(\"Rank\")\n",
    "plt.ylabel(\"Score\")\n",
    "plt.title(\"PageRank Scores of Top 100 Papers\")\n",
    "plt.show()\n"
   ]
  },
  {
   "cell_type": "code",
   "execution_count": null,
   "id": "affa7173",
   "metadata": {},
   "outputs": [],
   "source": []
  },
  {
   "cell_type": "code",
   "execution_count": null,
   "id": "010539b7",
   "metadata": {},
   "outputs": [],
   "source": []
  }
 ],
 "metadata": {
  "kernelspec": {
   "display_name": "Python 3 (ipykernel)",
   "language": "python",
   "name": "python3"
  },
  "language_info": {
   "codemirror_mode": {
    "name": "ipython",
    "version": 3
   },
   "file_extension": ".py",
   "mimetype": "text/x-python",
   "name": "python",
   "nbconvert_exporter": "python",
   "pygments_lexer": "ipython3",
   "version": "3.9.12"
  }
 },
 "nbformat": 4,
 "nbformat_minor": 5
}
