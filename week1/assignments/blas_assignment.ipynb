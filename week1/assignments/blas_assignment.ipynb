{
 "cells": [
  {
   "cell_type": "markdown",
   "id": "c1128903",
   "metadata": {},
   "source": [
    "# BLAS ASSIGNMENT"
   ]
  },
  {
   "cell_type": "markdown",
   "id": "26afb58d",
   "metadata": {},
   "source": [
    "Use the cell below for all your imports."
   ]
  },
  {
   "cell_type": "code",
   "execution_count": 2,
   "id": "d72a4a74",
   "metadata": {},
   "outputs": [],
   "source": [
    "import numpy as np\n",
    "from scipy.linalg.blas import dgemv, ddot, dnrm2"
   ]
  },
  {
   "cell_type": "markdown",
   "id": "91919505",
   "metadata": {},
   "source": [
    "Create a matrix and a vector using NumPy.Their dtype should be double."
   ]
  },
  {
   "cell_type": "code",
   "execution_count": 3,
   "id": "f6837913",
   "metadata": {},
   "outputs": [],
   "source": [
    "A = np.array([[1, 2, 3], [4, 5, 6], [7, 8, 9]], dtype=np.double)\n",
    "x = np.array([1, 2, 3], dtype=np.double)"
   ]
  },
  {
   "cell_type": "markdown",
   "id": "65f452f9",
   "metadata": {},
   "source": [
    "Use BLAS functions to perform matrix-vector multiplication"
   ]
  },
  {
   "cell_type": "code",
   "execution_count": 14,
   "id": "924e84ec",
   "metadata": {},
   "outputs": [
    {
     "data": {
      "text/plain": [
       "array([14., 25., 31.])"
      ]
     },
     "execution_count": 14,
     "metadata": {},
     "output_type": "execute_result"
    }
   ],
   "source": [
    "from scipy.linalg import blas\n",
    "from scipy.linalg import lapack\n",
    "\n",
    "z = blas.dgemv(alpha =1.0, a = A, x = x)\n",
    "z"
   ]
  },
  {
   "cell_type": "code",
   "execution_count": 4,
   "id": "0f77ebcf",
   "metadata": {},
   "outputs": [
    {
     "name": "stdout",
     "output_type": "stream",
     "text": [
      "[0. 0. 0.]\n"
     ]
    }
   ],
   "source": [
    "y = np.zeros_like(x)\n",
    "alpha = 1.0\n",
    "beta = 0.0\n",
    "dgemv(alpha, A, x, beta, y)\n",
    "print(y)"
   ]
  },
  {
   "cell_type": "markdown",
   "id": "e4414420",
   "metadata": {},
   "source": [
    "Create two new vectors and calculate their dot product using BLAS functions."
   ]
  },
  {
   "cell_type": "code",
   "execution_count": 10,
   "id": "69354f50",
   "metadata": {},
   "outputs": [
    {
     "name": "stdout",
     "output_type": "stream",
     "text": [
      "32.0\n"
     ]
    }
   ],
   "source": [
    "a = np.array([1, 2, 3], dtype=np.double)\n",
    "b = np.array([4, 5, 6], dtype=np.double)\n",
    "result = ddot(a, b)\n",
    "print(result)"
   ]
  },
  {
   "cell_type": "markdown",
   "id": "288bcaf5",
   "metadata": {},
   "source": [
    "Compute the L2 norm (Euclidean distance) of a vector using BLAS functions"
   ]
  },
  {
   "cell_type": "code",
   "execution_count": 11,
   "id": "82d0652a",
   "metadata": {},
   "outputs": [
    {
     "name": "stdout",
     "output_type": "stream",
     "text": [
      "3.7416573867739413\n"
     ]
    }
   ],
   "source": [
    "a = np.array([1, 2, 3], dtype=np.double)\n",
    "norm = dnrm2(a)\n",
    "print(norm)"
   ]
  },
  {
   "cell_type": "markdown",
   "id": "523a141c",
   "metadata": {},
   "source": [
    "Create a 5x5 symmetric matrix and calculate its eigenvalues and eigenvectors using BLAS functions"
   ]
  },
  {
   "cell_type": "code",
   "execution_count": 19,
   "id": "46063527",
   "metadata": {},
   "outputs": [
    {
     "name": "stdout",
     "output_type": "stream",
     "text": [
      "Eigenvalues: [-0.51572947  0.17091519 11.34481428]\n",
      "Eigenvectors: [[ 0.73697623  0.59100905  0.32798528]\n",
      " [ 0.32798528 -0.73697623  0.59100905]\n",
      " [-0.59100905  0.32798528  0.73697623]]\n"
     ]
    }
   ],
   "source": [
    "A = np.array([[1, 2, 3], [2, 4, 5], [3, 5, 6]], dtype=np.double)\n",
    "w = lapack.dsyev(A)\n",
    "print(\"Eigenvalues:\", w[0])\n",
    "print(\"Eigenvectors:\", w[1])"
   ]
  },
  {
   "cell_type": "markdown",
   "id": "b1bfaf15",
   "metadata": {},
   "source": [
    "Given the following matrix `A` and vector `v`: "
   ]
  },
  {
   "cell_type": "code",
   "execution_count": 20,
   "id": "2364d2a9",
   "metadata": {},
   "outputs": [],
   "source": [
    "A = np.array([[1, 2, 3], [4, 5, 6], [7, 8, 9]], dtype=np.double)\n",
    "b = np.array([1, 2, 3], dtype=np.double)"
   ]
  },
  {
   "cell_type": "markdown",
   "id": "a2a7d962",
   "metadata": {},
   "source": [
    "Solve the system `Ax = b` using the LU decomposition method and BLAS functions"
   ]
  },
  {
   "cell_type": "code",
   "execution_count": 28,
   "id": "3cf312a1",
   "metadata": {},
   "outputs": [
    {
     "name": "stdout",
     "output_type": "stream",
     "text": [
      "(array([[ 7.00000000e+00,  8.00000000e+00,  9.00000000e+00],\n",
      "       [ 1.42857143e-01,  8.57142857e-01,  1.71428571e+00],\n",
      "       [ 5.71428571e-01,  5.00000000e-01, -1.58603289e-16]]), array([2, 2, 2], dtype=int32), 0)\n"
     ]
    }
   ],
   "source": [
    "A = np.array([[1, 2, 3], [4, 5, 6], [7, 8, 9]], dtype=np.double)\n",
    "b = np.array([1, 2, 3], dtype=np.double)\n",
    "#lu, piv = lapack.dgetrf(A)\n",
    "lu = lapack.dgetrf(A)\n",
    "#x = lapack.dgetri(lu, b)\n",
    "print(lu)"
   ]
  },
  {
   "cell_type": "markdown",
   "id": "8053b357",
   "metadata": {},
   "source": [
    "# Merge Sort"
   ]
  },
  {
   "cell_type": "code",
   "execution_count": 61,
   "id": "d5b5f94e",
   "metadata": {},
   "outputs": [],
   "source": [
    "import numpy as np\n",
    "A = np.array([2,5,8,17,19])\n",
    "B = np.array([1,4,5,7,11,14])\n",
    "\n",
    "def merge_sort(A,B):\n",
    "  \n",
    "            \n",
    "    return c"
   ]
  },
  {
   "cell_type": "code",
   "execution_count": 50,
   "id": "fb6ec9a6",
   "metadata": {},
   "outputs": [
    {
     "data": {
      "text/plain": [
       "array([ 1, 11])"
      ]
     },
     "execution_count": 50,
     "metadata": {},
     "output_type": "execute_result"
    }
   ],
   "source": [
    "n = len(A) + len(B)\n",
    "c = np.array((1,n))\n",
    "c"
   ]
  },
  {
   "cell_type": "code",
   "execution_count": 62,
   "id": "63690905",
   "metadata": {},
   "outputs": [
    {
     "name": "stdout",
     "output_type": "stream",
     "text": [
      "2\n",
      "1\n"
     ]
    },
    {
     "ename": "ValueError",
     "evalue": "setting an array element with a sequence.",
     "output_type": "error",
     "traceback": [
      "\u001b[1;31m---------------------------------------------------------------------------\u001b[0m",
      "\u001b[1;31mTypeError\u001b[0m                                 Traceback (most recent call last)",
      "\u001b[1;31mTypeError\u001b[0m: only size-1 arrays can be converted to Python scalars",
      "\nThe above exception was the direct cause of the following exception:\n",
      "\u001b[1;31mValueError\u001b[0m                                Traceback (most recent call last)",
      "\u001b[1;32m~\\AppData\\Local\\Temp\\ipykernel_17384\\3370243256.py\u001b[0m in \u001b[0;36m<module>\u001b[1;34m\u001b[0m\n\u001b[1;32m----> 1\u001b[1;33m \u001b[0mmerge_sort\u001b[0m\u001b[1;33m(\u001b[0m\u001b[0mA\u001b[0m\u001b[1;33m,\u001b[0m\u001b[0mB\u001b[0m\u001b[1;33m)\u001b[0m\u001b[1;33m\u001b[0m\u001b[1;33m\u001b[0m\u001b[0m\n\u001b[0m",
      "\u001b[1;32m~\\AppData\\Local\\Temp\\ipykernel_17384\\2584265871.py\u001b[0m in \u001b[0;36mmerge_sort\u001b[1;34m(A, B)\u001b[0m\n\u001b[0;32m     11\u001b[0m             \u001b[0mprint\u001b[0m\u001b[1;33m(\u001b[0m\u001b[0mj\u001b[0m\u001b[1;33m)\u001b[0m\u001b[1;33m\u001b[0m\u001b[1;33m\u001b[0m\u001b[0m\n\u001b[0;32m     12\u001b[0m             \u001b[1;32mfor\u001b[0m \u001b[0mk\u001b[0m \u001b[1;32min\u001b[0m \u001b[0mrange\u001b[0m\u001b[1;33m(\u001b[0m\u001b[0mn\u001b[0m\u001b[1;33m)\u001b[0m\u001b[1;33m:\u001b[0m\u001b[1;33m\u001b[0m\u001b[1;33m\u001b[0m\u001b[0m\n\u001b[1;32m---> 13\u001b[1;33m                 \u001b[0mc\u001b[0m\u001b[1;33m[\u001b[0m\u001b[0mk\u001b[0m\u001b[1;33m]\u001b[0m \u001b[1;33m=\u001b[0m \u001b[0mnp\u001b[0m\u001b[1;33m.\u001b[0m\u001b[0mappend\u001b[0m\u001b[1;33m(\u001b[0m\u001b[0mc\u001b[0m\u001b[1;33m,\u001b[0m\u001b[0mmin\u001b[0m\u001b[1;33m(\u001b[0m\u001b[0mi\u001b[0m\u001b[1;33m,\u001b[0m\u001b[0mj\u001b[0m\u001b[1;33m)\u001b[0m\u001b[1;33m)\u001b[0m\u001b[1;33m\u001b[0m\u001b[1;33m\u001b[0m\u001b[0m\n\u001b[0m\u001b[0;32m     14\u001b[0m \u001b[1;33m\u001b[0m\u001b[0m\n\u001b[0;32m     15\u001b[0m     \u001b[1;32mreturn\u001b[0m \u001b[0mc\u001b[0m\u001b[1;33m\u001b[0m\u001b[1;33m\u001b[0m\u001b[0m\n",
      "\u001b[1;31mValueError\u001b[0m: setting an array element with a sequence."
     ]
    }
   ],
   "source": [
    "merge_sort(A,B)"
   ]
  },
  {
   "cell_type": "code",
   "execution_count": 122,
   "id": "90d41b20",
   "metadata": {},
   "outputs": [],
   "source": [
    "A = [2,5,8,17,19]\n",
    "B = [1,4,5,7,11]\n",
    "\n",
    "# le tableau A est le tableau avec la petit dimnesion\n",
    "def merge_sort(A,B):\n",
    "    \n",
    "    c = []\n",
    "    for i in A: \n",
    "        for j in B:\n",
    "            if i<j:\n",
    "                c.append(i)\n",
    "                break;\n",
    "            else:\n",
    "                if j in c :\n",
    "                    pass;\n",
    "                else:\n",
    "                    c.append(j)\n",
    "                \n",
    "\n",
    "        if i in c:\n",
    "            pass;\n",
    "        else:\n",
    "            c.append(i)\n",
    "\n",
    "\n",
    "\n",
    "    return c"
   ]
  },
  {
   "cell_type": "code",
   "execution_count": 117,
   "id": "7d18d09a",
   "metadata": {},
   "outputs": [
    {
     "name": "stdout",
     "output_type": "stream",
     "text": [
      "[1, 2, 3, 4, 5, 6, 7]\n"
     ]
    }
   ],
   "source": [
    "def merge_sorted_arrays(arr1, arr2):\n",
    "    \"\"\"\n",
    "    Merge two sorted arrays into a single sorted array\n",
    "    \"\"\"\n",
    "    merged_arr = []\n",
    "    i = j = 0\n",
    "\n",
    "    # Merge the two arrays by comparing elements\n",
    "    while i < len(arr1) and j < len(arr2):\n",
    "        if arr1[i] < arr2[j]:\n",
    "            merged_arr.append(arr1[i])\n",
    "            i += 1\n",
    "        else:\n",
    "            merged_arr.append(arr2[j])\n",
    "            j += 1\n",
    "\n",
    "    # Append remaining elements, if any\n",
    "    #merged_arr += arr1[i:]\n",
    "    #merged_arr += arr2[j:]\n",
    "\n",
    "    return merged_arr\n",
    "\n",
    "\n",
    "# Example usage\n",
    "arr1 = [1, 3, 5, 7]\n",
    "arr2 = [2, 4, 6, 8]\n",
    "merged_arr = merge_sorted_arrays(arr1, arr2)\n",
    "print(merged_arr)  # Output: [1, 2, 3, 4, 5, 6, 7, 8]\n",
    "\n",
    "\n",
    "\n",
    "\n"
   ]
  },
  {
   "cell_type": "code",
   "execution_count": 123,
   "id": "b0dbb88f",
   "metadata": {},
   "outputs": [
    {
     "data": {
      "text/plain": [
       "[1, 2, 4, 5, 5, 7, 8, 11, 17, 19]"
      ]
     },
     "execution_count": 123,
     "metadata": {},
     "output_type": "execute_result"
    }
   ],
   "source": [
    "merge_sort(A,B)"
   ]
  },
  {
   "cell_type": "code",
   "execution_count": 121,
   "id": "83f8a9b6",
   "metadata": {},
   "outputs": [
    {
     "data": {
      "text/plain": [
       "[1, 2, 4, 5, 5, 7, 8, 11, 14]"
      ]
     },
     "execution_count": 121,
     "metadata": {},
     "output_type": "execute_result"
    }
   ],
   "source": [
    "merge_sort(B,A)"
   ]
  },
  {
   "cell_type": "code",
   "execution_count": 142,
   "id": "455d10eb",
   "metadata": {},
   "outputs": [],
   "source": [
    "def merge_two_sorted_arrays(nums1, nums2):\n",
    "    m = len(nums1)\n",
    "    n = len(nums2)\n",
    "    nums = np.array(n+m)\n",
    "    while m > 0 and n > 0 : \n",
    "        if nums1[m-1] >= nums2[n-1]:\n",
    "            nums[n+m-1] = nums1[m-1]\n",
    "            \n",
    "        else:\n",
    "            nums[n+m-1] = nums2[n-1]\n",
    "            n = n - 1 \n",
    "            if n > 0 :\n",
    "                nums[0:n] = nums2[:n]\n",
    "            m = m - 1 \n",
    "\n",
    "    return nums1"
   ]
  },
  {
   "cell_type": "code",
   "execution_count": 143,
   "id": "8a93517a",
   "metadata": {},
   "outputs": [
    {
     "ename": "IndexError",
     "evalue": "too many indices for array: array is 0-dimensional, but 1 were indexed",
     "output_type": "error",
     "traceback": [
      "\u001b[1;31m---------------------------------------------------------------------------\u001b[0m",
      "\u001b[1;31mIndexError\u001b[0m                                Traceback (most recent call last)",
      "\u001b[1;32m~\\AppData\\Local\\Temp\\ipykernel_17384\\583788132.py\u001b[0m in \u001b[0;36m<module>\u001b[1;34m\u001b[0m\n\u001b[1;32m----> 1\u001b[1;33m \u001b[0mmerge_two_sorted_arrays\u001b[0m\u001b[1;33m(\u001b[0m\u001b[0mA\u001b[0m\u001b[1;33m,\u001b[0m\u001b[0mB\u001b[0m\u001b[1;33m)\u001b[0m\u001b[1;33m\u001b[0m\u001b[1;33m\u001b[0m\u001b[0m\n\u001b[0m",
      "\u001b[1;32m~\\AppData\\Local\\Temp\\ipykernel_17384\\936444353.py\u001b[0m in \u001b[0;36mmerge_two_sorted_arrays\u001b[1;34m(nums1, nums2)\u001b[0m\n\u001b[0;32m      5\u001b[0m     \u001b[1;32mwhile\u001b[0m \u001b[0mm\u001b[0m \u001b[1;33m>\u001b[0m \u001b[1;36m0\u001b[0m \u001b[1;32mand\u001b[0m \u001b[0mn\u001b[0m \u001b[1;33m>\u001b[0m \u001b[1;36m0\u001b[0m \u001b[1;33m:\u001b[0m\u001b[1;33m\u001b[0m\u001b[1;33m\u001b[0m\u001b[0m\n\u001b[0;32m      6\u001b[0m         \u001b[1;32mif\u001b[0m \u001b[0mnums1\u001b[0m\u001b[1;33m[\u001b[0m\u001b[0mm\u001b[0m\u001b[1;33m-\u001b[0m\u001b[1;36m1\u001b[0m\u001b[1;33m]\u001b[0m \u001b[1;33m>=\u001b[0m \u001b[0mnums2\u001b[0m\u001b[1;33m[\u001b[0m\u001b[0mn\u001b[0m\u001b[1;33m-\u001b[0m\u001b[1;36m1\u001b[0m\u001b[1;33m]\u001b[0m\u001b[1;33m:\u001b[0m\u001b[1;33m\u001b[0m\u001b[1;33m\u001b[0m\u001b[0m\n\u001b[1;32m----> 7\u001b[1;33m             \u001b[0mnums\u001b[0m\u001b[1;33m[\u001b[0m\u001b[0mn\u001b[0m\u001b[1;33m+\u001b[0m\u001b[0mm\u001b[0m\u001b[1;33m-\u001b[0m\u001b[1;36m1\u001b[0m\u001b[1;33m]\u001b[0m \u001b[1;33m=\u001b[0m \u001b[0mnums1\u001b[0m\u001b[1;33m[\u001b[0m\u001b[0mm\u001b[0m\u001b[1;33m-\u001b[0m\u001b[1;36m1\u001b[0m\u001b[1;33m]\u001b[0m\u001b[1;33m\u001b[0m\u001b[1;33m\u001b[0m\u001b[0m\n\u001b[0m\u001b[0;32m      8\u001b[0m \u001b[1;33m\u001b[0m\u001b[0m\n\u001b[0;32m      9\u001b[0m         \u001b[1;32melse\u001b[0m\u001b[1;33m:\u001b[0m\u001b[1;33m\u001b[0m\u001b[1;33m\u001b[0m\u001b[0m\n",
      "\u001b[1;31mIndexError\u001b[0m: too many indices for array: array is 0-dimensional, but 1 were indexed"
     ]
    }
   ],
   "source": [
    "merge_two_sorted_arrays(A,B)"
   ]
  },
  {
   "cell_type": "code",
   "execution_count": 146,
   "id": "e88c4363",
   "metadata": {},
   "outputs": [],
   "source": [
    "A = [2,5,8,17,19]\n",
    "B = [1,4,5,7,11]\n",
    "\n",
    "# le tableau A est le tableau avec la petit dimnesion\n",
    "def merge_sort(A,B):\n",
    "    \n",
    "    \n",
    "    m = len(A)\n",
    "    l = len(B)\n",
    "    n = len(A) + len(B)\n",
    "    c = np.zeros(n)\n",
    "    while(l>0):\n",
    "        if A[l-1]<B[l-1]:\n",
    "            c[l-1] = B[l-1]\n",
    "        else:\n",
    "            c[l-1] = A[l-1]\n",
    "        l = l-1\n",
    "    \n",
    "    for i in range(l,m):\n",
    "        c[i-1] = A[i-1]\n",
    "    return c\n"
   ]
  },
  {
   "cell_type": "code",
   "execution_count": 147,
   "id": "f2db8288",
   "metadata": {},
   "outputs": [
    {
     "data": {
      "text/plain": [
       "array([ 2.,  5.,  8., 17., 19.,  0.,  0.,  0.,  0., 19.])"
      ]
     },
     "execution_count": 147,
     "metadata": {},
     "output_type": "execute_result"
    }
   ],
   "source": [
    "merge_sort(A,B)"
   ]
  },
  {
   "cell_type": "code",
   "execution_count": 148,
   "id": "4e4e5a9b",
   "metadata": {},
   "outputs": [],
   "source": [
    "def merge(A, B):\n",
    "    c = np.empty(len(A) + len(B), dtype=A.dtype)\n",
    "    i = j = k = 0\n",
    "    while i < len(A) and j < len(B):\n",
    "        if A[i] <= B[j]:\n",
    "            c[k] = A[i]\n",
    "            i += 1\n",
    "        else:\n",
    "            c[k] = B[j]\n",
    "            j += 1\n",
    "        k += 1\n",
    "    while i < len(A):\n",
    "        c[k] = A[i]\n",
    "        i += 1\n",
    "        k += 1\n",
    "    while j < len(B):\n",
    "        c[k] = B[j]\n",
    "        j += 1\n",
    "        k += 1\n",
    "    return c\n",
    "\n",
    "\n",
    "\n",
    "        "
   ]
  },
  {
   "cell_type": "raw",
   "id": "1ac7143b",
   "metadata": {},
   "source": [
    "n = len(A)\n",
    "m = len(B)\n",
    "on a la complexité de la 1er boucle est : O(n+m) (c'est la complexité du max(n,m))???\n",
    "la complexité de la 2eme while est: n\n",
    "la complexité de la 2eme while est: m"
   ]
  },
  {
   "cell_type": "markdown",
   "id": "81226f1a",
   "metadata": {},
   "source": [
    "The Master theorem is used to analyze the time complexity of recursive functions. In the case of the merge() function, which merges two sorted arrays into a single sorted array, the input size is n and the function calls two sub-problems of size n/2. Using the Master theorem, we can express the complexity of merge() as T(n) = 2T(n/2) + O(n). If we can show that the non-recursive part of the function has a complexity of O(n^c) for some constant c > 1, we can conclude that the complexity of merge() is O(n^c). The creation of the resulting array has a complexity of O(n), which is O(n^1), so we can choose c = 1.1, for example. For this value of c, we have c > log_b(a) (where a = 2 and b = 2), so the complexity of merge() is O(n^1.1). This is slightly higher than O(n) but lower than O(n log n)."
   ]
  },
  {
   "cell_type": "markdown",
   "id": "71577ef9",
   "metadata": {},
   "source": [
    "# Binary search"
   ]
  },
  {
   "cell_type": "code",
   "execution_count": 150,
   "id": "72232fa6",
   "metadata": {},
   "outputs": [],
   "source": [
    "def binarySearch(array, target): #returns the index or the target \n",
    "    low = array[0]\n",
    "    high = array[len(array)-1]\n",
    "    if array[0] == target:\n",
    "            return 0\n",
    "    elif array[len(array)-1] == target:\n",
    "        return len(array)-1\n",
    "    else:\n",
    "        while(low <= high):\n",
    "            mid = int((low+high)/2)\n",
    "            if array[mid]==target:\n",
    "                return mid\n",
    "            elif array[mid] > target:\n",
    "                high = mid -1\n",
    "            elif array[mid] < target:\n",
    "                low = mid +1\n",
    "        return -1  #returns -1 if the target does not exist"
   ]
  },
  {
   "cell_type": "markdown",
   "id": "bce7ee16",
   "metadata": {},
   "source": [
    "The while loop repeats until either the target is found or the size of the remaining subarray becomes 0. Since the size of the remaining subarray is halved at each iteration of the loop, the maximum number of iterations is log2(n). Each iteration takes constant time, so the total time complexity of the loop is O(log n)"
   ]
  },
  {
   "cell_type": "code",
   "execution_count": null,
   "id": "ec6e7a3d",
   "metadata": {},
   "outputs": [],
   "source": []
  }
 ],
 "metadata": {
  "kernelspec": {
   "display_name": "Python 3 (ipykernel)",
   "language": "python",
   "name": "python3"
  },
  "language_info": {
   "codemirror_mode": {
    "name": "ipython",
    "version": 3
   },
   "file_extension": ".py",
   "mimetype": "text/x-python",
   "name": "python",
   "nbconvert_exporter": "python",
   "pygments_lexer": "ipython3",
   "version": "3.9.13"
  }
 },
 "nbformat": 4,
 "nbformat_minor": 5
}
