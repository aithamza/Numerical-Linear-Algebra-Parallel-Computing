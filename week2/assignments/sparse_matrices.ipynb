{
 "cells": [
  {
   "cell_type": "markdown",
   "id": "aea03da3",
   "metadata": {},
   "source": [
    "In this assignement, feel free to use the `sparse` module from `scipy`."
   ]
  },
  {
   "cell_type": "markdown",
   "id": "2df42bcc",
   "metadata": {},
   "source": [
    "Use the cell below for your imports."
   ]
  },
  {
   "cell_type": "code",
   "execution_count": 1,
   "id": "e9644e55",
   "metadata": {},
   "outputs": [],
   "source": [
    "import numpy as np\n",
    "from scipy.sparse import coo_matrix"
   ]
  },
  {
   "cell_type": "markdown",
   "id": "8948a816",
   "metadata": {},
   "source": [
    "implement the function `mat_mul_coo` that takes two sparse matrices in `coo` and returns their product."
   ]
  },
  {
   "cell_type": "code",
   "execution_count": 4,
   "id": "6047ee0e",
   "metadata": {},
   "outputs": [],
   "source": [
    "import numpy as np\n",
    "from scipy.sparse import coo_matrix\n",
    "\n",
    "def mat_mul_coo(A, B):\n",
    "    \"\"\"\n",
    "    Takes two sparse matrices in COO format and returns their product.\n",
    "    \"\"\"\n",
    "    # Get the shapes of the input matrices\n",
    "    A_shape = A.shape\n",
    "    B_shape = B.shape\n",
    "\n",
    "    # Check that the matrices can be multiplied\n",
    "    if A_shape[1] != B_shape[0]:\n",
    "        raise ValueError(\"dimension mismatch\")\n",
    "\n",
    "    # Create the output matrix in COO format\n",
    "    C_row = []\n",
    "    C_col = []\n",
    "    C_data = []\n",
    "\n",
    "    # Convert A and B to dictionaries for faster access\n",
    "    A_dict = {(i, j): val for i, j, val in zip(A.row, A.col, A.data)}\n",
    "    B_dict = {(i, j): val for i, j, val in zip(B.row, B.col, B.data)}\n",
    "\n",
    "    # Compute the matrix product\n",
    "    for i in range(A_shape[0]):\n",
    "        for j in range(B_shape[1]):\n",
    "            # Compute the dot product of row i of A and column j of B\n",
    "            dot_prod = sum(A_dict.get((i, k), 0) * B_dict.get((k, j), 0)\n",
    "                           for k in range(A_shape[1]))\n",
    "\n",
    "            # If the result is non-zero, add it to the output matrix\n",
    "            if dot_prod != 0:\n",
    "                C_row.append(i)\n",
    "                C_col.append(j)\n",
    "                C_data.append(dot_prod)\n",
    "\n",
    "    # Convert the output to a COO matrix\n",
    "    C = coo_matrix((C_data, (C_row, C_col)), shape=(A_shape[0], B_shape[1]))\n",
    "\n",
    "    return C\n"
   ]
  },
  {
   "cell_type": "markdown",
   "id": "4a626dec",
   "metadata": {},
   "source": [
    "implement the function `mat_mul_csr` that takes two sparse matrices in `csr` format and returns their product."
   ]
  },
  {
   "cell_type": "code",
   "execution_count": 6,
   "id": "c2e56fbd",
   "metadata": {},
   "outputs": [],
   "source": [
    "def mat_mul_csr(A_data, A_indices, A_indptr, A_shape, B_data, B_indices, B_indptr, B_shape):\n",
    "    if A_shape[1] != B_shape[0]:\n",
    "        raise ValueError(\"Cannot multiply matrices with incompatible shapes\")\n",
    "    \n",
    "    # Initialize the output matrix in CSR format\n",
    "    C_data = []\n",
    "    C_indices = []\n",
    "    C_indptr = [0]\n",
    "    C_shape = (A_shape[0], B_shape[1])\n",
    "    \n",
    "    # Loop over the rows of A and the columns of B\n",
    "    for i in range(A_shape[0]):\n",
    "        for j in range(B_shape[1]):\n",
    "            dot_product = 0\n",
    "            for k in range(A_shape[1]):\n",
    "                # Compute the dot product of row i of A and column j of B\n",
    "                dot_product += A_data[A_indptr[i]:A_indptr[i+1]].dot(B_data[B_indptr[k]:B_indptr[k+1]][B_indices[B_indptr[k]:B_indptr[k+1]] == j])\n",
    "            if dot_product != 0:\n",
    "                # Add the non-zero entry to the output matrix\n",
    "                C_data.append(dot_product)\n",
    "                C_indices.append(j)\n",
    "        # Update the indptr array to mark the end of the row\n",
    "        C_indptr.append(len(C_data))\n",
    "    \n",
    "    return C_data, C_indices, C_indptr, C_shape\n"
   ]
  },
  {
   "cell_type": "code",
   "execution_count": null,
   "id": "c323faee",
   "metadata": {},
   "outputs": [],
   "source": [
    "import numpy as np\n",
    "from scipy.sparse import csr_matrix\n",
    "\n",
    "def mat_mul_coo(A, B):\n",
    "    \"\"\"\n",
    "    Takes two sparse matrices in COO format and returns their product.\n",
    "    \"\"\"\n",
    "    # Get the shapes of the input matrices\n",
    "    A_shape = A.shape\n",
    "    B_shape = B.shape\n",
    "\n",
    "    # Check that the matrices can be multiplied\n",
    "    if A_shape[1] != B_shape[0]:\n",
    "        raise ValueError(\"dimension mismatch\")\n",
    "\n",
    "    # Create the output matrix in COO format\n",
    "    C_row = []\n",
    "    C_col = []\n",
    "    C_data = []\n",
    "\n",
    "    # Convert A and B to dictionaries for faster access\n",
    "    A_dict = {(i, j): val for i, j, val in zip(A.row, A.col, A.data)}\n",
    "    B_dict = {(i, j): val for i, j, val in zip(B.row, B.col, B.data)}\n",
    "\n",
    "    # Compute the matrix product\n",
    "    for i in range(A_shape[0]):\n",
    "        for j in range(B_shape[1]):\n",
    "            # Compute the dot product of row i of A and column j of B\n",
    "            dot_prod = sum(A_dict.get((i, k), 0) * B_dict.get((k, j), 0)\n",
    "                           for k in range(A_shape[1]))\n",
    "\n",
    "            # If the result is non-zero, add it to the output matrix\n",
    "            if dot_prod != 0:\n",
    "                C_row.append(i)\n",
    "                C_col.append(j)\n",
    "                C_data.append(dot_prod)\n",
    "\n",
    "    # Convert the output to a COO matrix\n",
    "    C = csr_matrix((C_data, (C_row, C_col)), shape=(A_shape[0], B_shape[1]))\n",
    "\n",
    "    return C\n"
   ]
  },
  {
   "cell_type": "markdown",
   "id": "9592a90b",
   "metadata": {},
   "source": [
    "implement a function `solve_lin_sys` that takes a matrix `A` in `csr` format and a vector `b` as a numpy array and solves the system `Ax = b`."
   ]
  },
  {
   "cell_type": "code",
   "execution_count": 10,
   "id": "00edeb4c",
   "metadata": {},
   "outputs": [],
   "source": [
    "import numpy as np\n",
    "from scipy.sparse import csr_matrix\n",
    "from scipy.sparse.linalg import spsolve\n",
    "\n",
    "def solve_lin_sys(A_data, A_indices, A_indptr, A_shape, b):\n",
    "    # Convert the input matrix to CSR format\n",
    "    A = csr_matrix((A_data, A_indices, A_indptr), shape=A_shape)\n",
    "    \n",
    "    # Solve the linear system using sparse LU factorization\n",
    "    x = spsolve(A, b)\n",
    "    \n",
    "    return x\n"
   ]
  },
  {
   "cell_type": "code",
   "execution_count": null,
   "id": "06a1ed73",
   "metadata": {},
   "outputs": [],
   "source": []
  },
  {
   "cell_type": "code",
   "execution_count": null,
   "id": "449ff569",
   "metadata": {},
   "outputs": [],
   "source": []
  }
 ],
 "metadata": {
  "kernelspec": {
   "display_name": "Python 3 (ipykernel)",
   "language": "python",
   "name": "python3"
  },
  "language_info": {
   "codemirror_mode": {
    "name": "ipython",
    "version": 3
   },
   "file_extension": ".py",
   "mimetype": "text/x-python",
   "name": "python",
   "nbconvert_exporter": "python",
   "pygments_lexer": "ipython3",
   "version": "3.9.12"
  }
 },
 "nbformat": 4,
 "nbformat_minor": 5
}
